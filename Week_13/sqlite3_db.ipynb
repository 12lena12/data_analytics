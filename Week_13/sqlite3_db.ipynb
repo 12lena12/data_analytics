{
 "cells": [
  {
   "cell_type": "markdown",
   "id": "d762c7ac",
   "metadata": {},
   "source": [
    "# Writing data to and reading data from a Database using Python"
   ]
  },
  {
   "cell_type": "markdown",
   "id": "b0e28911",
   "metadata": {},
   "source": [
    "## Libraries and settings"
   ]
  },
  {
   "cell_type": "code",
   "execution_count": 1,
   "id": "e6c3efa9",
   "metadata": {},
   "outputs": [
    {
     "name": "stdout",
     "output_type": "stream",
     "text": [
      "U:\\Lektionen\\DA_HS2022\\KK\\Week_13\n"
     ]
    }
   ],
   "source": [
    "# Libraries\n",
    "import os\n",
    "import sqlite3\n",
    "import fnmatch\n",
    "import numpy as np\n",
    "import pandas as pd\n",
    "import matplotlib.pyplot as plt\n",
    "\n",
    "# Ignore warnings\n",
    "import warnings\n",
    "warnings.filterwarnings(\"ignore\")\n",
    "\n",
    "# Get current working directory\n",
    "print(os.getcwd())"
   ]
  },
  {
   "cell_type": "markdown",
   "id": "e67f7b2e",
   "metadata": {},
   "source": [
    "## Read data from file to data frame"
   ]
  },
  {
   "cell_type": "code",
   "execution_count": 5,
   "id": "6839df80",
   "metadata": {},
   "outputs": [
    {
     "name": "stdout",
     "output_type": "stream",
     "text": [
      "(600, 6)\n"
     ]
    },
    {
     "data": {
      "text/html": [
       "<div>\n",
       "<style scoped>\n",
       "    .dataframe tbody tr th:only-of-type {\n",
       "        vertical-align: middle;\n",
       "    }\n",
       "\n",
       "    .dataframe tbody tr th {\n",
       "        vertical-align: top;\n",
       "    }\n",
       "\n",
       "    .dataframe thead th {\n",
       "        text-align: right;\n",
       "    }\n",
       "</style>\n",
       "<table border=\"1\" class=\"dataframe\">\n",
       "  <thead>\n",
       "    <tr style=\"text-align: right;\">\n",
       "      <th></th>\n",
       "      <th>id</th>\n",
       "      <th>url</th>\n",
       "      <th>price_raw</th>\n",
       "      <th>adress_raw</th>\n",
       "      <th>attributes_raw</th>\n",
       "      <th>description_raw</th>\n",
       "    </tr>\n",
       "  </thead>\n",
       "  <tbody>\n",
       "    <tr>\n",
       "      <th>0</th>\n",
       "      <td>1673287854-41</td>\n",
       "      <td>https://www.inmuebles24.com/inmuebles-en-monte...</td>\n",
       "      <td>MN 2,900,000</td>\n",
       "      <td>Cumbres, Monterrey</td>\n",
       "      <td>156 m²  175 m²  3 rec.  2 baños  2 estac.</td>\n",
       "      <td>Hermosa casa en venta ubicada en cerradas de C...</td>\n",
       "    </tr>\n",
       "    <tr>\n",
       "      <th>1</th>\n",
       "      <td>1673287854-42</td>\n",
       "      <td>https://www.inmuebles24.com/inmuebles-en-monte...</td>\n",
       "      <td>MN 747,000</td>\n",
       "      <td>RIO SUCHIATELomas de Valle Alto, Monterrey</td>\n",
       "      <td>497 m²  470 m²  4 rec.  3 baños  2 estac.</td>\n",
       "      <td>Excelente oportuninad de invertir en tu patrim...</td>\n",
       "    </tr>\n",
       "    <tr>\n",
       "      <th>2</th>\n",
       "      <td>1673287854-43</td>\n",
       "      <td>https://www.inmuebles24.com/inmuebles-en-monte...</td>\n",
       "      <td>MN 745,000</td>\n",
       "      <td>PASEO DEL ACANTILADO 3234Cumbres 2do Sector, M...</td>\n",
       "      <td>162 m²  250 m²  4 rec.  2 baños  1 estac.</td>\n",
       "      <td>Increíble casa en excelente zona. Gran oportun...</td>\n",
       "    </tr>\n",
       "    <tr>\n",
       "      <th>3</th>\n",
       "      <td>1673287854-44</td>\n",
       "      <td>https://www.inmuebles24.com/inmuebles-en-monte...</td>\n",
       "      <td>MN 980,000</td>\n",
       "      <td>Río Suchiate 1284Lomas de Valle Alto, Monterrey</td>\n",
       "      <td>509 m²  298 m²  4 rec.  3 baños  3 estac.</td>\n",
       "      <td>La oportunidad de tener la casa de tus sueños ...</td>\n",
       "    </tr>\n",
       "    <tr>\n",
       "      <th>4</th>\n",
       "      <td>1673287854-45</td>\n",
       "      <td>https://www.inmuebles24.com/inmuebles-en-monte...</td>\n",
       "      <td>MN 1,115,000</td>\n",
       "      <td>Contry, Monterrey</td>\n",
       "      <td>320 m²  640 m²  4 rec.  2 baños  2 estac.</td>\n",
       "      <td>Remate bancario * cesion de derechos adjudicat...</td>\n",
       "    </tr>\n",
       "  </tbody>\n",
       "</table>\n",
       "</div>"
      ],
      "text/plain": [
       "              id                                                url  \\\n",
       "0  1673287854-41  https://www.inmuebles24.com/inmuebles-en-monte...   \n",
       "1  1673287854-42  https://www.inmuebles24.com/inmuebles-en-monte...   \n",
       "2  1673287854-43  https://www.inmuebles24.com/inmuebles-en-monte...   \n",
       "3  1673287854-44  https://www.inmuebles24.com/inmuebles-en-monte...   \n",
       "4  1673287854-45  https://www.inmuebles24.com/inmuebles-en-monte...   \n",
       "\n",
       "      price_raw                                         adress_raw  \\\n",
       "0  MN 2,900,000                                 Cumbres, Monterrey   \n",
       "1    MN 747,000         RIO SUCHIATELomas de Valle Alto, Monterrey   \n",
       "2    MN 745,000  PASEO DEL ACANTILADO 3234Cumbres 2do Sector, M...   \n",
       "3    MN 980,000    Río Suchiate 1284Lomas de Valle Alto, Monterrey   \n",
       "4  MN 1,115,000                                  Contry, Monterrey   \n",
       "\n",
       "                              attributes_raw  \\\n",
       "0  156 m²  175 m²  3 rec.  2 baños  2 estac.   \n",
       "1  497 m²  470 m²  4 rec.  3 baños  2 estac.   \n",
       "2  162 m²  250 m²  4 rec.  2 baños  1 estac.   \n",
       "3  509 m²  298 m²  4 rec.  3 baños  3 estac.   \n",
       "4  320 m²  640 m²  4 rec.  2 baños  2 estac.   \n",
       "\n",
       "                                     description_raw  \n",
       "0  Hermosa casa en venta ubicada en cerradas de C...  \n",
       "1  Excelente oportuninad de invertir en tu patrim...  \n",
       "2  Increíble casa en excelente zona. Gran oportun...  \n",
       "3  La oportunidad de tener la casa de tus sueños ...  \n",
       "4  Remate bancario * cesion de derechos adjudicat...  "
      ]
     },
     "execution_count": 5,
     "metadata": {},
     "output_type": "execute_result"
    }
   ],
   "source": [
    "df = pd.read_csv('mty.csv', \n",
    "                  sep=',', \n",
    "                  encoding='utf-8')\n",
    "\n",
    "# Rename columns\n",
    "df = df.rename(columns={ 'web-scraper-order': 'id',\n",
    "                         'web-scraper-start-url': 'url'})\n",
    "\n",
    "print(df.shape)\n",
    "df.head(5)"
   ]
  },
  {
   "cell_type": "markdown",
   "id": "b42c9464",
   "metadata": {},
   "source": [
    "## Create sqlite data base"
   ]
  },
  {
   "cell_type": "code",
   "execution_count": 9,
   "id": "7463d475",
   "metadata": {},
   "outputs": [
    {
     "name": "stdout",
     "output_type": "stream",
     "text": [
      "mexican_database.db\n"
     ]
    }
   ],
   "source": [
    "# Create data base\n",
    "conn = sqlite3.connect('mexican_database.db') \n",
    "cursor = conn.cursor()\n",
    "\n",
    "# Show dbs in the directory\n",
    "flist = fnmatch.filter(os.listdir('.'), '*.db')\n",
    "for i in flist:\n",
    "    print(i)"
   ]
  },
  {
   "cell_type": "markdown",
   "id": "0c8fd628",
   "metadata": {},
   "source": [
    "## Create SQL-table in the database"
   ]
  },
  {
   "cell_type": "code",
   "execution_count": 11,
   "id": "23dc6f0e",
   "metadata": {},
   "outputs": [],
   "source": [
    "cursor.execute('''CREATE TABLE IF NOT EXISTS mexican_table (id VARCHAR(50),\n",
    "                                                            url VARCHAR(50),\n",
    "                                                            price_raw VARCHAR(50),\n",
    "                                                            adress_raw VARCHAR(200),\n",
    "                                                            attributes_raw VARCHAR(100),\n",
    "                                                            description_raw VARCHAR(500))''')\n",
    "# Confirm changes to the table\n",
    "conn.commit()"
   ]
  },
  {
   "cell_type": "markdown",
   "id": "02132d58",
   "metadata": {},
   "source": [
    "## Write data to the SQL-table in data base"
   ]
  },
  {
   "cell_type": "code",
   "execution_count": 12,
   "id": "f9980eb2",
   "metadata": {},
   "outputs": [
    {
     "data": {
      "text/plain": [
       "600"
      ]
     },
     "execution_count": 12,
     "metadata": {},
     "output_type": "execute_result"
    }
   ],
   "source": [
    "df.to_sql(name = 'mexican_table',\n",
    "          con = conn,\n",
    "          index = False,\n",
    "          if_exists = 'replace')"
   ]
  },
  {
   "cell_type": "markdown",
   "id": "dd2fc936",
   "metadata": {},
   "source": [
    "## Query the SQL-table"
   ]
  },
  {
   "cell_type": "code",
   "execution_count": 33,
   "id": "cda30c61",
   "metadata": {},
   "outputs": [
    {
     "name": "stdout",
     "output_type": "stream",
     "text": [
      "                 id                                                url  \\\n",
      "0     1673287854-41  https://www.inmuebles24.com/inmuebles-en-monte...   \n",
      "1     1673287854-43  https://www.inmuebles24.com/inmuebles-en-monte...   \n",
      "2     1673287854-46  https://www.inmuebles24.com/inmuebles-en-monte...   \n",
      "3     1673287854-49  https://www.inmuebles24.com/inmuebles-en-monte...   \n",
      "4     1673287854-52  https://www.inmuebles24.com/inmuebles-en-monte...   \n",
      "..              ...                                                ...   \n",
      "265  1673288242-632  https://www.inmuebles24.com/inmuebles-en-monte...   \n",
      "266  1673288242-634  https://www.inmuebles24.com/inmuebles-en-monte...   \n",
      "267  1673288242-635  https://www.inmuebles24.com/inmuebles-en-monte...   \n",
      "268  1673288242-638  https://www.inmuebles24.com/inmuebles-en-monte...   \n",
      "269  1673288242-640  https://www.inmuebles24.com/inmuebles-en-monte...   \n",
      "\n",
      "        price_raw                                         adress_raw  \\\n",
      "0    MN 2,900,000                                 Cumbres, Monterrey   \n",
      "1      MN 745,000  PASEO DEL ACANTILADO 3234Cumbres 2do Sector, M...   \n",
      "2    MN 2,590,000                         San RemoCumbres, Monterrey   \n",
      "3    MN 4,000,000                    Las Cumbres 2 Sector, Monterrey   \n",
      "4      MN 750,000                  Colinas de las Cumbres, Monterrey   \n",
      "..            ...                                                ...   \n",
      "265    MN 750,000                  Colinas de las Cumbres, Monterrey   \n",
      "266    MN 600,000                  Apolo 353Cumbres 6to D, Monterrey   \n",
      "267    MN 550,000                         Cumbres Madeira, Monterrey   \n",
      "268    MN 600,000  APOLO 353, CUMBRES 6o SECTOR, SECCIÓN ACumbres...   \n",
      "269     MN 12,900                          AltrysaCumbres, Monterrey   \n",
      "\n",
      "                                attributes_raw  \\\n",
      "0    156 m²  175 m²  3 rec.  2 baños  2 estac.   \n",
      "1    162 m²  250 m²  4 rec.  2 baños  1 estac.   \n",
      "2            119 m²  3 rec.  2 baños  2 estac.   \n",
      "3    204 m²  152 m²  3 rec.  2 baños  1 estac.   \n",
      "4    152 m²  300 m²  4 rec.  2 baños  3 estac.   \n",
      "..                                         ...   \n",
      "265  152 m²  300 m²  4 rec.  2 baños  3 estac.   \n",
      "266   190 m²  190 m²  3 rec.  1 baño  2 estac.   \n",
      "267  180 m²  160 m²  3 rec.  2 baños  2 estac.   \n",
      "268  190 m²  190 m²  3 rec.  3 baños  2 estac.   \n",
      "269  119 m²  150 m²  3 rec.  2 baños  2 estac.   \n",
      "\n",
      "                                       description_raw  \n",
      "0    Hermosa casa en venta ubicada en cerradas de C...  \n",
      "1    Increíble casa en excelente zona. Gran oportun...  \n",
      "2    Bonita casa con cochera doble con portón eléct...  \n",
      "3    Hermosa casa habitación, con excelente ubicaci...  \n",
      "4    Increible casa super atractiva! ¡muy bien ubic...  \n",
      "..                                                 ...  \n",
      "265  Increible casa super atractiva! ¡muy bien ubic...  \n",
      "266  Apolo 353, Cumbres 6to D, Nuevo Leon, Monterre...  \n",
      "267  Increible casa super atractiva! ¡muy bien ubic...  \n",
      "268  *¡gran venta especial! * obten tu nuevo patrim...  \n",
      "269  Casa en renta nueva a estrenar, en fraccionami...  \n",
      "\n",
      "[270 rows x 6 columns]\n"
     ]
    }
   ],
   "source": [
    "# Query the SQL-table\n",
    "cursor.execute(\"\"\"SELECT * FROM mexican_table\n",
    "                  WHERE adress_raw LIKE '%Cumbres%'\"\"\")\n",
    "\n",
    "df = pd.DataFrame(cursor.fetchall(), \n",
    "                  columns=['id','url','price_raw','adress_raw', 'attributes_raw', 'description_raw'])    \n",
    "print(df)"
   ]
  }
 ],
 "metadata": {
  "kernelspec": {
   "display_name": "Python 3 (ipykernel)",
   "language": "python",
   "name": "python3"
  },
  "language_info": {
   "codemirror_mode": {
    "name": "ipython",
    "version": 3
   },
   "file_extension": ".py",
   "mimetype": "text/x-python",
   "name": "python",
   "nbconvert_exporter": "python",
   "pygments_lexer": "ipython3",
   "version": "3.9.13"
  }
 },
 "nbformat": 4,
 "nbformat_minor": 5
}
