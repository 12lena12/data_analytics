{
 "cells": [
  {
   "cell_type": "markdown",
   "id": "1e84aff8",
   "metadata": {},
   "source": [
    "# Linear regression"
   ]
  },
  {
   "cell_type": "markdown",
   "id": "d9ca506b",
   "metadata": {},
   "source": [
    "## Libraries and settings"
   ]
  },
  {
   "cell_type": "code",
   "execution_count": 71,
   "id": "3cc498a3",
   "metadata": {},
   "outputs": [
    {
     "name": "stdout",
     "output_type": "stream",
     "text": [
      "u:\\Lektionen\\DA_HS2023\\data_analytics\\Week_08\n"
     ]
    }
   ],
   "source": [
    "# Libraries\n",
    "import os\n",
    "import numpy as np\n",
    "import pandas as pd\n",
    "import scipy.stats as stats\n",
    "import statsmodels.api as sm\n",
    "import matplotlib.pyplot as plt\n",
    "from sklearn import linear_model\n",
    "from sklearn.model_selection import train_test_split\n",
    "\n",
    "# Ignore warnings\n",
    "import warnings\n",
    "warnings.filterwarnings('ignore')\n",
    "\n",
    "# Show current working directory\n",
    "print(os.getcwd())"
   ]
  },
  {
   "cell_type": "markdown",
   "id": "514d3419",
   "metadata": {},
   "source": [
    "## Import the apartment data"
   ]
  },
  {
   "cell_type": "code",
   "execution_count": 72,
   "id": "fc8846ed",
   "metadata": {},
   "outputs": [
    {
     "name": "stdout",
     "output_type": "stream",
     "text": [
      "(804, 17)\n"
     ]
    },
    {
     "data": {
      "text/html": [
       "<div>\n",
       "<style scoped>\n",
       "    .dataframe tbody tr th:only-of-type {\n",
       "        vertical-align: middle;\n",
       "    }\n",
       "\n",
       "    .dataframe tbody tr th {\n",
       "        vertical-align: top;\n",
       "    }\n",
       "\n",
       "    .dataframe thead th {\n",
       "        text-align: right;\n",
       "    }\n",
       "</style>\n",
       "<table border=\"1\" class=\"dataframe\">\n",
       "  <thead>\n",
       "    <tr style=\"text-align: right;\">\n",
       "      <th></th>\n",
       "      <th>id</th>\n",
       "      <th>address_raw</th>\n",
       "      <th>rooms</th>\n",
       "      <th>area</th>\n",
       "      <th>luxurious</th>\n",
       "      <th>price</th>\n",
       "      <th>price_per_m2</th>\n",
       "      <th>lat</th>\n",
       "      <th>lon</th>\n",
       "      <th>bfs_number</th>\n",
       "      <th>bfs_name</th>\n",
       "      <th>pop</th>\n",
       "      <th>pop_dens</th>\n",
       "      <th>frg_pct</th>\n",
       "      <th>emp</th>\n",
       "      <th>tax_income</th>\n",
       "      <th>dist_supermarket</th>\n",
       "    </tr>\n",
       "  </thead>\n",
       "  <tbody>\n",
       "    <tr>\n",
       "      <th>0</th>\n",
       "      <td>1662023695-433</td>\n",
       "      <td>Sunnenbergstrasse 15, 8633 Wolfhausen, ZH</td>\n",
       "      <td>3.5</td>\n",
       "      <td>122</td>\n",
       "      <td>1</td>\n",
       "      <td>3180</td>\n",
       "      <td>26.07</td>\n",
       "      <td>47.255714</td>\n",
       "      <td>8.804976</td>\n",
       "      <td>112</td>\n",
       "      <td>Bubikon</td>\n",
       "      <td>7344</td>\n",
       "      <td>632.558140</td>\n",
       "      <td>11.410675</td>\n",
       "      <td>3617.0</td>\n",
       "      <td>79385.90434</td>\n",
       "      <td>317.117916</td>\n",
       "    </tr>\n",
       "    <tr>\n",
       "      <th>1</th>\n",
       "      <td>1662023720-634</td>\n",
       "      <td>Blumenbergstrasse 7, 8633 Wolfhausen, ZH</td>\n",
       "      <td>4.0</td>\n",
       "      <td>87</td>\n",
       "      <td>0</td>\n",
       "      <td>1690</td>\n",
       "      <td>19.43</td>\n",
       "      <td>47.254879</td>\n",
       "      <td>8.793746</td>\n",
       "      <td>112</td>\n",
       "      <td>Bubikon</td>\n",
       "      <td>7344</td>\n",
       "      <td>632.558140</td>\n",
       "      <td>11.410675</td>\n",
       "      <td>3617.0</td>\n",
       "      <td>79385.90434</td>\n",
       "      <td>612.612674</td>\n",
       "    </tr>\n",
       "    <tr>\n",
       "      <th>2</th>\n",
       "      <td>1662023745-834</td>\n",
       "      <td>8608 Bubikon, ZH</td>\n",
       "      <td>3.5</td>\n",
       "      <td>92</td>\n",
       "      <td>0</td>\n",
       "      <td>2350</td>\n",
       "      <td>25.54</td>\n",
       "      <td>47.277386</td>\n",
       "      <td>8.800306</td>\n",
       "      <td>112</td>\n",
       "      <td>Bubikon</td>\n",
       "      <td>7344</td>\n",
       "      <td>632.558140</td>\n",
       "      <td>11.410675</td>\n",
       "      <td>3617.0</td>\n",
       "      <td>79385.90434</td>\n",
       "      <td>2269.090923</td>\n",
       "    </tr>\n",
       "    <tr>\n",
       "      <th>3</th>\n",
       "      <td>1662023701-503</td>\n",
       "      <td>8608 Bubikon, ZH</td>\n",
       "      <td>3.5</td>\n",
       "      <td>130</td>\n",
       "      <td>0</td>\n",
       "      <td>2500</td>\n",
       "      <td>19.23</td>\n",
       "      <td>47.277386</td>\n",
       "      <td>8.800306</td>\n",
       "      <td>112</td>\n",
       "      <td>Bubikon</td>\n",
       "      <td>7344</td>\n",
       "      <td>632.558140</td>\n",
       "      <td>11.410675</td>\n",
       "      <td>3617.0</td>\n",
       "      <td>79385.90434</td>\n",
       "      <td>2269.090923</td>\n",
       "    </tr>\n",
       "    <tr>\n",
       "      <th>4</th>\n",
       "      <td>1662023745-820</td>\n",
       "      <td>Lavaterstr. 63, 8002 Zürich, ZH</td>\n",
       "      <td>2.5</td>\n",
       "      <td>78</td>\n",
       "      <td>0</td>\n",
       "      <td>3760</td>\n",
       "      <td>48.21</td>\n",
       "      <td>47.361378</td>\n",
       "      <td>8.533339</td>\n",
       "      <td>261</td>\n",
       "      <td>Zürich</td>\n",
       "      <td>420217</td>\n",
       "      <td>4778.994655</td>\n",
       "      <td>32.458468</td>\n",
       "      <td>491193.0</td>\n",
       "      <td>82932.73770</td>\n",
       "      <td>349.937421</td>\n",
       "    </tr>\n",
       "  </tbody>\n",
       "</table>\n",
       "</div>"
      ],
      "text/plain": [
       "               id                                address_raw  rooms  area  \\\n",
       "0  1662023695-433  Sunnenbergstrasse 15, 8633 Wolfhausen, ZH    3.5   122   \n",
       "1  1662023720-634   Blumenbergstrasse 7, 8633 Wolfhausen, ZH    4.0    87   \n",
       "2  1662023745-834                           8608 Bubikon, ZH    3.5    92   \n",
       "3  1662023701-503                           8608 Bubikon, ZH    3.5   130   \n",
       "4  1662023745-820            Lavaterstr. 63, 8002 Zürich, ZH    2.5    78   \n",
       "\n",
       "   luxurious  price  price_per_m2        lat       lon  bfs_number bfs_name  \\\n",
       "0          1   3180         26.07  47.255714  8.804976         112  Bubikon   \n",
       "1          0   1690         19.43  47.254879  8.793746         112  Bubikon   \n",
       "2          0   2350         25.54  47.277386  8.800306         112  Bubikon   \n",
       "3          0   2500         19.23  47.277386  8.800306         112  Bubikon   \n",
       "4          0   3760         48.21  47.361378  8.533339         261   Zürich   \n",
       "\n",
       "      pop     pop_dens    frg_pct       emp   tax_income  dist_supermarket  \n",
       "0    7344   632.558140  11.410675    3617.0  79385.90434        317.117916  \n",
       "1    7344   632.558140  11.410675    3617.0  79385.90434        612.612674  \n",
       "2    7344   632.558140  11.410675    3617.0  79385.90434       2269.090923  \n",
       "3    7344   632.558140  11.410675    3617.0  79385.90434       2269.090923  \n",
       "4  420217  4778.994655  32.458468  491193.0  82932.73770        349.937421  "
      ]
     },
     "execution_count": 72,
     "metadata": {},
     "output_type": "execute_result"
    }
   ],
   "source": [
    "# Define columns for import\n",
    "columns = [ 'web-scraper-order',\n",
    "            'address_raw',\n",
    "            'rooms',\n",
    "            'area',\n",
    "            'luxurious',\n",
    "            'price',\n",
    "            'price_per_m2',\n",
    "            'lat',\n",
    "            'lon',\n",
    "            'bfs_number',\n",
    "            'bfs_name',\n",
    "            'pop',\n",
    "            'pop_dens',\n",
    "            'frg_pct',\n",
    "            'emp',\n",
    "            'tax_income',\n",
    "            'dist_supermarket']\n",
    "\n",
    "# Read and select variables\n",
    "df_orig = pd.read_csv(\"apartments_data_enriched.csv\", sep=\";\", encoding='utf-8')[columns]\n",
    "\n",
    "# Rename variable 'web-scraper-order' to 'apmt_id'\n",
    "df_orig = df_orig.rename(columns={'web-scraper-order': 'id'})\n",
    "\n",
    "# Remove missing values\n",
    "df = df_orig.dropna()\n",
    "df.head(5)\n",
    "\n",
    "# Remove duplicates\n",
    "df = df.drop_duplicates()\n",
    "\n",
    "# Remove some 'extreme' values\n",
    "df = df.loc[(df['price'] >= 1000) & \n",
    "            (df['price'] <= 5000)]\n",
    "\n",
    "print(df.shape)\n",
    "df.head(5)"
   ]
  },
  {
   "cell_type": "markdown",
   "id": "e43dabac",
   "metadata": {},
   "source": [
    "## Simple linear regression (only one explanatory variable in the model)\n",
    "For details see: https://docs.scipy.org/doc/scipy/reference/generated/scipy.stats.linregress.html"
   ]
  },
  {
   "cell_type": "markdown",
   "id": "f2ba09cd",
   "metadata": {},
   "source": [
    "### Create train and test samples (train = 80%, test = 20% of the data)"
   ]
  },
  {
   "cell_type": "code",
   "execution_count": 73,
   "id": "ebba6b44",
   "metadata": {},
   "outputs": [
    {
     "name": "stdout",
     "output_type": "stream",
     "text": [
      "X_train:\n",
      "362     75\n",
      "369     90\n",
      "496    100\n",
      "349     94\n",
      "308     94\n",
      "Name: area, dtype: int64 \n",
      "\n",
      "y_train:\n",
      "362    1840\n",
      "369    1570\n",
      "496    1941\n",
      "349    2480\n",
      "308    2800\n",
      "Name: price, dtype: int64\n"
     ]
    }
   ],
   "source": [
    "# Create train and test samples\n",
    "X_train, X_test, y_train, y_test = train_test_split(df['area'], \n",
    "                                                    df['price'], \n",
    "                                                    test_size=0.20, \n",
    "                                                    random_state=42)\n",
    "# Show X_train\n",
    "print('X_train:')\n",
    "print(X_train.head(), '\\n')\n",
    "\n",
    "# Show y_train\n",
    "print('y_train:')\n",
    "print(y_train.head())"
   ]
  },
  {
   "cell_type": "markdown",
   "id": "f32a7699",
   "metadata": {},
   "source": [
    "### Fit the simple linear regression model"
   ]
  },
  {
   "cell_type": "code",
   "execution_count": 74,
   "id": "8b2fc4ac",
   "metadata": {},
   "outputs": [
    {
     "name": "stdout",
     "output_type": "stream",
     "text": [
      "Linear regression result:\n",
      "Intercept with y-axis (alpha):            1191.96\n",
      "Slope of regression line (beta):          12.326\n",
      "p-value:                                  0.0000\n",
      "R-squared (coefficient of determination): 0.2711\n"
     ]
    }
   ],
   "source": [
    "# Fit the regression model\n",
    "slope, intercept, r, p, std_err = stats.linregress(X_train, y_train)\n",
    "\n",
    "# Print results of the regression model\n",
    "print('Linear regression result:')\n",
    "print(f'Intercept with y-axis (alpha):            {intercept:.2f}')\n",
    "print(f'Slope of regression line (beta):          {slope:.3f}')\n",
    "print(f'p-value:                                  {p:.4f}')\n",
    "print(f'R-squared (coefficient of determination): {r**2:.4f}')"
   ]
  },
  {
   "cell_type": "markdown",
   "id": "473eaddb",
   "metadata": {},
   "source": [
    "### Plot regression line"
   ]
  },
  {
   "cell_type": "code",
   "execution_count": 75,
   "id": "944adc0b",
   "metadata": {},
   "outputs": [
    {
     "data": {
      "image/png": "[encoded data removed]",
      "text/plain": [
       "<Figure size 600x400 with 1 Axes>"
      ]
     },
     "metadata": {},
     "output_type": "display_data"
    }
   ],
   "source": [
    "# Function to calculate model predictions\n",
    "def myfunc(x):\n",
    "    return slope * x + intercept\n",
    "\n",
    "# Apply myfunc() to x, i.e. make predictions \n",
    "mymodel = pd.Series(map(myfunc, X_train))\n",
    "\n",
    "# Scatterplot with regression line\n",
    "plt.figure(figsize=(6,4))\n",
    "plt.scatter(X_train, y_train, s=10, color='green')\n",
    "plt.plot(X_train, mymodel, color='darkred', linestyle='dashed')\n",
    "plt.title('Simple Linear Regression')\n",
    "plt.xlabel('area (m2)')\n",
    "plt.ylabel('price (CHF)')\n",
    "\n",
    "plt.show()"
   ]
  },
  {
   "cell_type": "markdown",
   "id": "4168bf46",
   "metadata": {},
   "source": [
    "### Check model residuals (residuals = observed prices minus predicted prices)"
   ]
  },
  {
   "cell_type": "code",
   "execution_count": 76,
   "id": "c706dc0f",
   "metadata": {},
   "outputs": [
    {
     "name": "stdout",
     "output_type": "stream",
     "text": [
      "1st Predicted price in dataset: 2116.38\n",
      "1st Observed price in dataset: 3180.00\n",
      "1st Residual price in dataset: 1063.62\n"
     ]
    }
   ],
   "source": [
    "# Calculate model residuals for train data\n",
    "residuals = y_train - mymodel\n",
    "\n",
    "# Check the first residual value in our data set\n",
    "print(f'1st Predicted price in dataset: {mymodel[0]:.2f}')\n",
    "print(f'1st Observed price in dataset: {y_train[0]:.2f}')\n",
    "print(f'1st Residual price in dataset: {residuals[0]:.2f}')"
   ]
  },
  {
   "cell_type": "markdown",
   "id": "a61ae5ac",
   "metadata": {},
   "source": [
    "### Plot histogram of residuals"
   ]
  },
  {
   "cell_type": "code",
   "execution_count": 77,
   "id": "74906286",
   "metadata": {},
   "outputs": [
    {
     "data": {
      "image/png": "[encoded data removed]",
      "text/plain": [
       "<Figure size 800x400 with 1 Axes>"
      ]
     },
     "metadata": {},
     "output_type": "display_data"
    }
   ],
   "source": [
    "# Plot histogram of residuals\n",
    "fig = plt.figure( figsize=(8,4))\n",
    "n, bins, patches = plt.hist(x=residuals, \n",
    "                            bins=20, \n",
    "                            color='blue',\n",
    "                            alpha=0.5\n",
    "                   )\n",
    "\n",
    "# Set title and labels\n",
    "plt.xlabel('residuals', fontsize=10, labelpad=10)\n",
    "plt.ylabel('frequency', fontsize=10, labelpad=10)\n",
    "plt.title('Histogram of model residuals', fontsize=12, pad=10)\n",
    "\n",
    "# Show plot\n",
    "plt.show()"
   ]
  },
  {
   "cell_type": "markdown",
   "id": "b3108ba5",
   "metadata": {},
   "source": [
    "### Compare the observed prices with the predicted prices"
   ]
  },
  {
   "cell_type": "code",
   "execution_count": 78,
   "id": "36cdf7b0",
   "metadata": {},
   "outputs": [
    {
     "name": "stdout",
     "output_type": "stream",
     "text": [
      "Observed price: 2370.0, Predicted price: 1980.8\n",
      "Observed price: 2300.0, Predicted price: 2424.5\n",
      "Observed price: 4290.0, Predicted price: 2843.6\n",
      "Observed price: 2480.0, Predicted price: 2880.6\n",
      "Observed price: 2032.0, Predicted price: 2116.4\n",
      "Observed price: 2090.0, Predicted price: 2005.5\n",
      "Observed price: 1790.0, Predicted price: 2350.6\n",
      "Observed price: 2280.0, Predicted price: 2535.5\n",
      "Observed price: 2350.0, Predicted price: 2671.0\n",
      "Observed price: 1600.0, Predicted price: 2375.2\n"
     ]
    }
   ],
   "source": [
    "# Create model predictions for test data\n",
    "predicted = myfunc(X_test)\n",
    "predicted.round(1)\n",
    "\n",
    "# Compare the observed prices with the predicted prices\n",
    "for i in range(0,10):\n",
    "    print(f'Observed price: {y_test.iloc[i]:.1f}, Predicted price: {predicted.iloc[i]:.1f}')"
   ]
  },
  {
   "cell_type": "markdown",
   "id": "0bf7656b",
   "metadata": {},
   "source": [
    "## Multiple linear regression (more than one explanatory variable in the model)\n",
    "For details see: https://www.statsmodels.org/dev/examples/notebooks/generated/predict.html"
   ]
  },
  {
   "cell_type": "markdown",
   "id": "9268293c",
   "metadata": {},
   "source": [
    "### Create train and test samples (train = 80%, test = 20% of the data)"
   ]
  },
  {
   "cell_type": "code",
   "execution_count": 79,
   "id": "26c6c61e",
   "metadata": {},
   "outputs": [
    {
     "name": "stdout",
     "output_type": "stream",
     "text": [
      "X2_train:\n",
      "     area     pop_dens\n",
      "362    75  1662.597326\n",
      "369    90  1662.597326\n",
      "496   100  1327.635328\n",
      "349    94  1662.597326\n",
      "308    94  1662.597326 \n",
      "\n",
      "y2_train:\n",
      "362    1840\n",
      "369    1570\n",
      "496    1941\n",
      "349    2480\n",
      "308    2800\n",
      "Name: price, dtype: int64\n"
     ]
    }
   ],
   "source": [
    "# Create train and test samples (we name it X2_ and y_2 because we already used X_ and y_ above)\n",
    "X2_train, X2_test, y2_train, y2_test = train_test_split(df[['area',\n",
    "                                                            'pop_dens']], \n",
    "                                                        df['price'], \n",
    "                                                        test_size=0.20, \n",
    "                                                        random_state=42)\n",
    "\n",
    "# Show X2_train\n",
    "print('X2_train:')\n",
    "print(X2_train.head(), '\\n')\n",
    "\n",
    "# Show y2_train\n",
    "print('y2_train:')\n",
    "print(y2_train.head())"
   ]
  },
  {
   "cell_type": "markdown",
   "id": "493cef96",
   "metadata": {},
   "source": [
    "### Fit the multiple regression model (yes, the output is rich :-), but we need only part of it for interpretation!)"
   ]
  },
  {
   "cell_type": "code",
   "execution_count": 80,
   "id": "41939144",
   "metadata": {},
   "outputs": [
    {
     "name": "stdout",
     "output_type": "stream",
     "text": [
      "                            OLS Regression Results                            \n",
      "==============================================================================\n",
      "Dep. Variable:                  price   R-squared:                       0.555\n",
      "Model:                            OLS   Adj. R-squared:                  0.553\n",
      "Method:                 Least Squares   F-statistic:                     398.6\n",
      "Date:                Thu, 24 Aug 2023   Prob (F-statistic):          3.66e-113\n",
      "Time:                        08:17:24   Log-Likelihood:                -4883.0\n",
      "No. Observations:                 643   AIC:                             9772.\n",
      "Df Residuals:                     640   BIC:                             9785.\n",
      "Df Model:                           2                                         \n",
      "Covariance Type:            nonrobust                                         \n",
      "==============================================================================\n",
      "                 coef    std err          t      P>|t|      [0.025      0.975]\n",
      "------------------------------------------------------------------------------\n",
      "const        458.4991     65.979      6.949      0.000     328.937     588.061\n",
      "area          15.0355      0.639     23.543      0.000      13.781      16.290\n",
      "pop_dens       0.2381      0.012     20.189      0.000       0.215       0.261\n",
      "==============================================================================\n",
      "Omnibus:                      106.335   Durbin-Watson:                   1.973\n",
      "Prob(Omnibus):                  0.000   Jarque-Bera (JB):              306.361\n",
      "Skew:                           0.810   Prob(JB):                     2.98e-67\n",
      "Kurtosis:                       5.969   Cond. No.                     9.38e+03\n",
      "==============================================================================\n",
      "\n",
      "Notes:\n",
      "[1] Standard Errors assume that the covariance matrix of the errors is correctly specified.\n",
      "[2] The condition number is large, 9.38e+03. This might indicate that there are\n",
      "strong multicollinearity or other numerical problems.\n"
     ]
    }
   ],
   "source": [
    "# Add constant to the model\n",
    "X2_train_const = sm.add_constant(X2_train)\n",
    "\n",
    "# Create the multiple regression model\n",
    "olsmod = sm.OLS(y_train, X2_train_const)\n",
    "olsres = olsmod.fit()\n",
    "\n",
    "# Print full model output\n",
    "print(olsres.summary())"
   ]
  },
  {
   "cell_type": "markdown",
   "id": "6bfc2964",
   "metadata": {},
   "source": [
    "### Interpretation of the relevant (in this course) statistics in the table above"
   ]
  },
  {
   "cell_type": "markdown",
   "id": "4e62547e",
   "metadata": {},
   "source": [
    "<b>R-squared:</b> This is the coefficient of determination (see slides of lessons). A value of 0.522 means, that the explanatory variables explain 52% of the variaton of our target variable (rental prices) - not bad, but could be improved.\n",
    "\n",
    "<b>coef:</b> These are the estimated coefficients of the explanatory variables ('slopes of the regression line' of each variable). These are nedded for the price predictions in our model.\n",
    "\n",
    "<b>P>|t|:</b> These are the p-values. If < 0.05, the explanatory variables shows a statistically siginificant (5% significance level) contribution in explaining the target variable. Except for the distiance to the nearest supermarkt, all variables are significant here."
   ]
  },
  {
   "cell_type": "markdown",
   "id": "1cb8a8c5",
   "metadata": {},
   "source": [
    "### Plot histogram of residuals"
   ]
  },
  {
   "cell_type": "code",
   "execution_count": 85,
   "id": "c28ffef9",
   "metadata": {},
   "outputs": [
    {
     "data": {
      "image/png": "[encoded data removed]",
      "text/plain": [
       "<Figure size 800x400 with 1 Axes>"
      ]
     },
     "metadata": {},
     "output_type": "display_data"
    }
   ],
   "source": [
    "# Plot histogram of residuals\n",
    "fig = plt.figure( figsize=(8,4))\n",
    "n, bins, patches = plt.hist(x=olsres.resid, \n",
    "                            bins=20, \n",
    "                            color='blue',\n",
    "                            alpha=0.5\n",
    "                   )\n",
    "\n",
    "# Set labels\n",
    "plt.xlabel('residuals', fontsize=10, labelpad=10)\n",
    "plt.ylabel('frequency', fontsize=10, labelpad=10)\n",
    "plt.title('Histogram of model residuals', fontsize=12, pad=10)\n",
    "\n",
    "plt.show()"
   ]
  },
  {
   "cell_type": "markdown",
   "id": "5dd244d9",
   "metadata": {},
   "source": [
    "### Compare the observed prices with the predicted prices"
   ]
  },
  {
   "cell_type": "code",
   "execution_count": 82,
   "id": "798fac9c",
   "metadata": {},
   "outputs": [
    {
     "name": "stdout",
     "output_type": "stream",
     "text": [
      "Observed price: 2370.0, Predicted price: 2558.8\n",
      "Observed price: 2300.0, Predicted price: 2210.8\n",
      "Observed price: 4290.0, Predicted price: 3611.3\n",
      "Observed price: 2480.0, Predicted price: 2834.7\n",
      "Observed price: 2032.0, Predicted price: 1888.1\n",
      "Observed price: 2090.0, Predicted price: 1619.6\n",
      "Observed price: 1790.0, Predicted price: 1975.8\n",
      "Observed price: 2280.0, Predicted price: 2493.3\n",
      "Observed price: 2350.0, Predicted price: 2504.8\n",
      "Observed price: 1600.0, Predicted price: 2213.7\n"
     ]
    }
   ],
   "source": [
    "# Add constant to X2_test\n",
    "X2_test_const = sm.add_constant(X2_test)\n",
    "predicted_new = olsres.predict(X2_test_const)\n",
    "\n",
    "# Compare the observed prices with the predicted prices\n",
    "for i in range(0,10):\n",
    "    print(f'Observed price: {y_test.iloc[i]:.1f}, Predicted price: {predicted_new.iloc[i]:.1f}')"
   ]
  },
  {
   "cell_type": "markdown",
   "id": "b3468eec",
   "metadata": {},
   "source": [
    "### Jupyter notebook --footer info-- (please always provide this at the end of each submitted notebook)"
   ]
  },
  {
   "cell_type": "code",
   "execution_count": 83,
   "id": "64f26a9e",
   "metadata": {},
   "outputs": [
    {
     "name": "stdout",
     "output_type": "stream",
     "text": [
      "-----------------------------------\n",
      "NT\n",
      "Windows | 10\n",
      "Datetime: 2023-08-24 08:17:24\n",
      "Python Version: 3.10.12\n",
      "-----------------------------------\n"
     ]
    }
   ],
   "source": [
    "import os\n",
    "import platform\n",
    "import socket\n",
    "from platform import python_version\n",
    "from datetime import datetime\n",
    "\n",
    "print('-----------------------------------')\n",
    "print(os.name.upper())\n",
    "print(platform.system(), '|', platform.release())\n",
    "print('Datetime:', datetime.now().strftime(\"%Y-%m-%d %H:%M:%S\"))\n",
    "print('Python Version:', python_version())\n",
    "print('-----------------------------------')"
   ]
  }
 ],
 "metadata": {
  "kernelspec": {
   "display_name": "Python 3 (ipykernel)",
   "language": "python",
   "name": "python3"
  },
  "language_info": {
   "codemirror_mode": {
    "name": "ipython",
    "version": 3
   },
   "file_extension": ".py",
   "mimetype": "text/x-python",
   "name": "python",
   "nbconvert_exporter": "python",
   "pygments_lexer": "ipython3",
   "version": "3.10.12"
  }
 },
 "nbformat": 4,
 "nbformat_minor": 5
}
